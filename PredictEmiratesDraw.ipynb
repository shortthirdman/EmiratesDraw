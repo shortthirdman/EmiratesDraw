{
 "cells": [
  {
   "cell_type": "markdown",
   "id": "2a82494c-c29e-414c-8474-7dd9b10efbec",
   "metadata": {},
   "source": [
    "### Emirates Draw: A Gateway to Winning Big"
   ]
  },
  {
   "cell_type": "markdown",
   "id": "92c88158-acb8-425f-a0d6-852291f3b2be",
   "metadata": {},
   "source": [
    "Emirates Draw is an exciting lottery platform in the UAE that offers participants a chance to win substantial cash prizes through a variety of draws. With a commitment to responsible gaming, Emirates Draw supports various charitable initiatives and community projects. Here’s a brief overview of its four main draws:"
   ]
  },
  {
   "cell_type": "markdown",
   "id": "8c06564e-8bb1-4e76-a245-ade0f0ed26fb",
   "metadata": {},
   "source": [
    "#### 1. Mega 7\n",
    "The Mega 7 draw is the flagship lottery of Emirates Draw. Participants choose seven numbers from a pool of 1 to 99. To win the jackpot, all seven numbers must match the drawn numbers. This draw offers life-changing prizes and is held weekly, creating anticipation among players.\n",
    "\n",
    "#### 2. Easy 6\n",
    "The Easy 6 draw simplifies the lottery experience. Players select six numbers from a range of 1 to 39. With lower odds than the Mega 7, Easy 6 is popular for its accessible gameplay and the chance to win substantial prizes, including cash and bonus rewards.\n",
    "\n",
    "#### 3. Fast 5\n",
    "Fast 5 is designed for those who prefer a quicker gaming experience. In this draw, players pick five numbers from 1 to 30. The draw takes place frequently, offering players multiple chances to win each week. Its fast-paced nature makes it appealing for both new and seasoned players.\n",
    "\n",
    "#### 4. Pick 1\n",
    "For the ultimate simplicity, the Pick 1 draw allows participants to choose just one number from 1 to 10. This straightforward option is perfect for those who enjoy casual gaming. Despite its simplicity, players can still win exciting prizes, making it a fun entry point into the Emirates Draw experience."
   ]
  },
  {
   "cell_type": "markdown",
   "id": "3391061b-f6ea-42b0-a8f3-83fac7401cef",
   "metadata": {},
   "source": [
    "### Conclusion\n",
    "Emirates Draw provides diverse options for lottery enthusiasts, catering to various preferences and playing styles. Each draw not only offers opportunities for significant winnings but also contributes to charitable causes, making each ticket a chance to make a difference."
   ]
  },
  {
   "cell_type": "code",
   "execution_count": null,
   "id": "4d3a3b35-3bbc-4af2-a9ae-9b7cd2ef4805",
   "metadata": {},
   "outputs": [],
   "source": [
    "import pandas as pd\n",
    "import numpy as np\n",
    "\n",
    "from sklearn.model_selection import train_test_split\n",
    "from sklearn.metrics import mean_squared_error\n",
    "from sklearn.ensemble import RandomForestRegressor\n",
    "from sklearn.multioutput import MultiOutputRegressor\n",
    "\n",
    "import os\n",
    "import requests"
   ]
  },
  {
   "cell_type": "markdown",
   "id": "4bdb6168-b5cc-4dcc-a4b9-26d3179227fb",
   "metadata": {},
   "source": [
    "#### MEGA7 Draw Result Prediction"
   ]
  },
  {
   "cell_type": "code",
   "execution_count": null,
   "id": "753ba0a3-d64f-4445-a626-62dbe9322680",
   "metadata": {},
   "outputs": [],
   "source": [
    "# Load and parse the data\n",
    "records = []\n",
    "\n",
    "response = requests.get('https://api.emiratesdraw.com/api/EmiratesDrawlotteryapi/GetWinnersSummaryByDate?offset=0&limit=250&lotteryGameTypeID=Mega7,Dreamz7Ball')\n",
    "try:\n",
    "  if response.status_code == 200:\n",
    "    data = response.json()\n",
    "  else:\n",
    "    print(f'Error with status code {response.status_code}')\n",
    "except JSONDecodeError:\n",
    "  print('Response was not valid JSON')\n",
    "\n",
    "df = pd.DataFrame(records)\n",
    "print(df)\n",
    "\n",
    "## Transform the data to create features for the model"
   ]
  },
  {
   "cell_type": "code",
   "execution_count": null,
   "id": "2e0cbdb9-5dc5-42bb-8259-aa691a485bba",
   "metadata": {},
   "outputs": [],
   "source": []
  }
 ],
 "metadata": {
  "kernelspec": {
   "display_name": "Python 3 (ipykernel)",
   "language": "python",
   "name": "python3"
  },
  "language_info": {
   "codemirror_mode": {
    "name": "ipython",
    "version": 3
   },
   "file_extension": ".py",
   "mimetype": "text/x-python",
   "name": "python",
   "nbconvert_exporter": "python",
   "pygments_lexer": "ipython3",
   "version": "3.12.4"
  }
 },
 "nbformat": 4,
 "nbformat_minor": 5
}
