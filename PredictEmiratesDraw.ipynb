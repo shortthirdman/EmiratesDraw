{
 "cells": [
  {
   "cell_type": "code",
   "execution_count": null,
   "id": "4d3a3b35-3bbc-4af2-a9ae-9b7cd2ef4805",
   "metadata": {},
   "outputs": [],
   "source": [
    "import pandas as pd\n",
    "import numpy as np\n",
    "import ipywidgets as widgets\n",
    "\n",
    "import os\n",
    "import requests"
   ]
  },
  {
   "cell_type": "code",
   "execution_count": null,
   "id": "753ba0a3-d64f-4445-a626-62dbe9322680",
   "metadata": {},
   "outputs": [],
   "source": [
    "# Load and parse the data\n",
    "records = []\n",
    "\n",
    "value = widgets.Dropdown(\n",
    "    options=[('Mega 7', 'Mega7'), ('Easy 6', 'Easy6'), ('Fast 5', 'Fast5'), ('Pick 1', 'Pick1')],\n",
    "    value='Mega7',\n",
    "    description='Draw:',\n",
    ")\n",
    "print('Draw type: ', value)\n",
    "response = requests.get('https://api.emiratesdraw.com/api/EmiratesDrawlotteryapi/GetWinnersSummaryByDate?offset=0&limit=250&lotteryGameTypeID=Mega7,Dreamz7Ball')\n",
    "try:\n",
    "  if response.status_code == 200:\n",
    "    data = response.json()\n",
    "  else:\n",
    "    print(f'Error with status code {response.status_code}')\n",
    "except JSONDecodeError:\n",
    "  print('Response was not valid JSON')\n",
    "\n",
    "df = pd.DataFrame(records)\n",
    "print(df)\n",
    "\n",
    "## Transform the data to create features for the model"
   ]
  }
 ],
 "metadata": {
  "kernelspec": {
   "display_name": "Python 3 (ipykernel)",
   "language": "python",
   "name": "python3"
  },
  "language_info": {
   "codemirror_mode": {
    "name": "ipython",
    "version": 3
   },
   "file_extension": ".py",
   "mimetype": "text/x-python",
   "name": "python",
   "nbconvert_exporter": "python",
   "pygments_lexer": "ipython3",
   "version": "3.12.4"
  }
 },
 "nbformat": 4,
 "nbformat_minor": 5
}
